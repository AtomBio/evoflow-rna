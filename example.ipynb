{
 "cells": [
  {
   "cell_type": "markdown",
   "metadata": {},
   "source": [
    "# Embeddings"
   ]
  },
  {
   "cell_type": "code",
   "execution_count": null,
   "metadata": {},
   "outputs": [],
   "source": [
    "from src.ncrna.tasks.lm.drnafm import EvoFlow\n",
    "import torch\n",
    "\n",
    "model = EvoFlow.load_from_pretrained('weights/mini-v1.ckpt').to('cuda:0')\n",
    "tokenizer = model.alphabet\n",
    "\n",
    "sequences = ['GGGGGUGUAGCUCAGUGGUAGAGCGCGUGCUUAGCAUGUACGAGGUCCCGGGUUCAAUCCCCGGCACCUCCA'] # tRNA-Ala\n",
    "x = torch.tensor(tokenizer.batch_tokenize(sequences), dtype=torch.int64, device='cuda:0')\n",
    "\n",
    "with torch.cuda.amp.autocast(dtype=torch.float16):\n",
    "    logits, hidden_states = model(x, return_last_hidden_state=True)\n",
    "\n",
    "print(hidden_states.shape)"
   ]
  },
  {
   "cell_type": "markdown",
   "metadata": {},
   "source": [
    "# Generation"
   ]
  },
  {
   "cell_type": "markdown",
   "metadata": {},
   "source": [
    "Unconditional"
   ]
  },
  {
   "cell_type": "code",
   "execution_count": null,
   "metadata": {},
   "outputs": [],
   "source": [
    "# Unconditional generation is supported using the sample() method directly.\n",
    "\n",
    "from src.ncrna.sampling.sampling import parse_prompt\n",
    "\n",
    "xt = parse_prompt(None, 1, tokenizer, 'cuda:0', 100) # Unconditionally sampling 1 RNA of length 100\n",
    "\n",
    "steps = 100\n",
    "tau = 0.1\n",
    "\n",
    "model.sample(xt, steps, tau)"
   ]
  },
  {
   "cell_type": "markdown",
   "metadata": {},
   "source": [
    "Conditional"
   ]
  },
  {
   "cell_type": "code",
   "execution_count": null,
   "metadata": {},
   "outputs": [],
   "source": [
    "# In our preprint, we construct scaffolds form the 1RAW aptamer binding recognition site. To attempt that same experiment using the mini model:\n",
    "\n",
    "prompt = '......GGAAG.........................' # Conditional generation requires specifying a prompt, which uses the '.' character for the <mask> token\n",
    "xt = parse_prompt(prompt, 1, tokenizer, 'cuda:0', 100)\n",
    "model.sample(xt, steps, tau)"
   ]
  }
 ],
 "metadata": {
  "kernelspec": {
   "display_name": "evoflow-650",
   "language": "python",
   "name": "python3"
  },
  "language_info": {
   "codemirror_mode": {
    "name": "ipython",
    "version": 3
   },
   "file_extension": ".py",
   "mimetype": "text/x-python",
   "name": "python",
   "nbconvert_exporter": "python",
   "pygments_lexer": "ipython3",
   "version": "3.11.5"
  }
 },
 "nbformat": 4,
 "nbformat_minor": 2
}
